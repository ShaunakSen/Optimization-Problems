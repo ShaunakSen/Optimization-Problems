{
  "nbformat": 4,
  "nbformat_minor": 0,
  "metadata": {
    "colab": {
      "name": "Optimization Problems.ipynb",
      "provenance": [],
      "collapsed_sections": [],
      "authorship_tag": "ABX9TyM1j8ba2eZ7javyC0EPJiaV",
      "include_colab_link": true
    },
    "kernelspec": {
      "name": "python3",
      "display_name": "Python 3"
    }
  },
  "cells": [
    {
      "cell_type": "markdown",
      "metadata": {
        "id": "view-in-github",
        "colab_type": "text"
      },
      "source": [
        "<a href=\"https://colab.research.google.com/github/ShaunakSen/Optimization-Problems/blob/master/Optimization_Problems.ipynb\" target=\"_parent\"><img src=\"https://colab.research.google.com/assets/colab-badge.svg\" alt=\"Open In Colab\"/></a>"
      ]
    },
    {
      "cell_type": "code",
      "metadata": {
        "id": "1lmuKA1F4Vdf",
        "colab_type": "code",
        "outputId": "9118eccb-953b-4db3-f857-d89fe64886af",
        "colab": {
          "base_uri": "https://localhost:8080/",
          "height": 194
        }
      },
      "source": [
        "!python -m pip install --upgrade --user ortools\n"
      ],
      "execution_count": 1,
      "outputs": [
        {
          "output_type": "stream",
          "text": [
            "Collecting ortools\n",
            "\u001b[?25l  Downloading https://files.pythonhosted.org/packages/db/8f/7c099bcedd55df8f215ba42b50fd4db6fa5de69bb5b14a0586871683edcd/ortools-7.5.7466-cp36-cp36m-manylinux1_x86_64.whl (27.9MB)\n",
            "\u001b[K     |████████████████████████████████| 27.9MB 145kB/s \n",
            "\u001b[?25hRequirement already satisfied, skipping upgrade: six>=1.10 in /usr/local/lib/python3.6/dist-packages (from ortools) (1.12.0)\n",
            "Collecting protobuf>=3.11.2\n",
            "\u001b[?25l  Downloading https://files.pythonhosted.org/packages/57/02/5432412c162989260fab61fa65e0a490c1872739eb91a659896e4d554b26/protobuf-3.11.3-cp36-cp36m-manylinux1_x86_64.whl (1.3MB)\n",
            "\u001b[K     |████████████████████████████████| 1.3MB 49.9MB/s \n",
            "\u001b[?25hRequirement already satisfied, skipping upgrade: setuptools in /usr/local/lib/python3.6/dist-packages (from protobuf>=3.11.2->ortools) (45.2.0)\n",
            "Installing collected packages: protobuf, ortools\n",
            "Successfully installed ortools-7.5.7466 protobuf-3.11.3\n"
          ],
          "name": "stdout"
        }
      ]
    },
    {
      "cell_type": "markdown",
      "metadata": {
        "id": "Jd8kxL8PuIvp",
        "colab_type": "text"
      },
      "source": [
        "## Get Started with OR-Tools for Python\n",
        "\n",
        "\n",
        "> [Guide link by Google](https://developers.google.com/optimization/introduction/python#optimization)\n",
        "\n",
        "### What is an optimization problem?\n",
        "\n",
        "The goal of optimization is to find the best solution to a problem out of a large set of possible solutions. (Sometimes you'll be satisfied with finding any feasible solution; OR-Tools can do that as well.)\n",
        "\n",
        "Here's a typical optimization problem. Suppose that a shipping company delivers packages to its customers using a fleet of trucks. Every day, the company must assign packages to trucks, and then choose a route for each truck to deliver its packages. Each possible assignment of packages and routes has a cost, based on the total travel distance for the trucks, and possibly other factors as well. The problem is to choose the assignments of packages and routes that has the least cost.\n",
        "\n",
        "Like all optimization problems, this problem has the following elements:\n",
        "\n",
        "- The **objective** - the quantity you want to optimize. In the example above, the objective is to minimize cost. To set up an optimization problem, you need to **define a function that calculates the value of the objective for any possible solution**. This is called the objective function. In the preceding example, the objective function would calculate the total cost of any assignment of packages and routes.\n",
        "\n",
        "    > An optimal solution is one for which the value of the objective function is the best. (\"Best\" can be either a maximum or a minimum.)\n",
        "\n",
        "- The **constraints** — restrictions on the set of possible solutions, based on the specific requirements of the problem. For example, if the shipping company can't assign packages above a given weight to trucks, this would impose a constraint on the solutions. **A feasible solution is one that satisfies all the given constraints for the problem, without necessarily being optimal.**\n",
        "\n",
        "\n",
        "The first step in solving an optimization problem is identifying the objective and constraints."
      ]
    },
    {
      "cell_type": "markdown",
      "metadata": {
        "id": "WFwAPIpEu31_",
        "colab_type": "text"
      },
      "source": [
        "### Solving an optimization problem in Python\n",
        "\n",
        "Next, we give an example of an optimization problem, and show how to set up and solve it in Python.\n",
        "\n",
        "A linear optimization example\n",
        "\n",
        "---\n",
        "\n",
        "<img src='./img/diag1.png'>\n",
        "\n",
        "\n",
        "Now that we have seen what a basic optimization problem looks like, lets explore how to cdoe it in python"
      ]
    },
    {
      "cell_type": "markdown",
      "metadata": {
        "id": "X0th3HDq28Lo",
        "colab_type": "text"
      },
      "source": [
        "#### Maximize 3x + y subject to the following constraints:\n",
        "\n",
        "```\n",
        "0\t≤\tx\t≤\t1\n",
        "\n",
        "0\t≤\ty\t≤\t2\n",
        "\n",
        "x + y\t≤\t2\n",
        "\n",
        "```\n",
        "\n",
        "The objective function in this example is 3x + y. Both the objective function and the constraints are given by linear expressions, which makes this a linear problem.\n",
        "\n",
        "#### Main steps in solving the problem\n",
        "\n",
        "For each language, the basic steps for setting up and solving a problem are the same:\n",
        "\n",
        "1. Create the variables.\n",
        "2. Define the constraints.\n",
        "3. Define the objective function.\n",
        "4. Declare the solver—the method that implements an algorithm for finding the optimal solution.\n",
        "5. Invoke the solver and display the results.\n",
        "\n"
      ]
    },
    {
      "cell_type": "code",
      "metadata": {
        "id": "fbuYGN0b42Dy",
        "colab_type": "code",
        "colab": {}
      },
      "source": [
        "from __future__ import print_function\n",
        "from ortools.linear_solver import pywraplp\n"
      ],
      "execution_count": 0,
      "outputs": []
    },
    {
      "cell_type": "markdown",
      "metadata": {
        "id": "ltuVC844bonB",
        "colab_type": "text"
      },
      "source": [
        "pywraplp is a Python wrapper for the underlying C++ solver. The argument GLOP_LINEAR_PROGRAMMING specifies GLOP, the OR-Tools linear solver."
      ]
    },
    {
      "cell_type": "code",
      "metadata": {
        "id": "slCyBfWct04T",
        "colab_type": "code",
        "colab": {}
      },
      "source": [
        "# Create the linear solver with the GLOP backend.\n",
        "\n",
        "solver = pywraplp.Solver(name='simple_lp_program',problem_type=pywraplp.Solver.GLOP_LINEAR_PROGRAMMING)"
      ],
      "execution_count": 0,
      "outputs": []
    },
    {
      "cell_type": "code",
      "metadata": {
        "id": "loK6UDCA5XIy",
        "colab_type": "code",
        "outputId": "b1a2584b-d413-4dba-edb0-2f1a38140349",
        "colab": {
          "base_uri": "https://localhost:8080/",
          "height": 34
        }
      },
      "source": [
        "# Create the variables x and y\n",
        "\n",
        "x = solver.NumVar(lb=0, ub=1, name='x')\n",
        "y = solver.NumVar(lb=0, ub=2, name='y')\n",
        "\n",
        "print (solver.NumVariables())"
      ],
      "execution_count": 0,
      "outputs": [
        {
          "output_type": "stream",
          "text": [
            "2\n"
          ],
          "name": "stdout"
        }
      ]
    },
    {
      "cell_type": "markdown",
      "metadata": {
        "id": "9Bf7I9FK6GP1",
        "colab_type": "text"
      },
      "source": [
        "The first two constraints, 0 ≤ x ≤ 1 and 0 ≤ y ≤ 2, are already set by the definitions of the variables. The following code defines the constraint 0 ≤ x + y ≤ 2:"
      ]
    },
    {
      "cell_type": "code",
      "metadata": {
        "id": "vpMMzNOH59U9",
        "colab_type": "code",
        "outputId": "8895b1ee-cece-4d6b-9260-e8dce5e9d6a8",
        "colab": {
          "base_uri": "https://localhost:8080/",
          "height": 34
        }
      },
      "source": [
        "# Create a linear constraint, 0 <= x + y <= 2.\n",
        "\n",
        "ct = solver.Constraint(0, 2, 'ct')\n",
        "ct.SetCoefficient(var=x, coeff=1)\n",
        "ct.SetCoefficient(var=y, coeff=1)\n",
        "\n",
        "print('Number of constraints =', solver.NumConstraints())"
      ],
      "execution_count": 0,
      "outputs": [
        {
          "output_type": "stream",
          "text": [
            "Number of constraints = 1\n"
          ],
          "name": "stdout"
        }
      ]
    },
    {
      "cell_type": "markdown",
      "metadata": {
        "id": "V3REJ-K37oLE",
        "colab_type": "text"
      },
      "source": [
        "The method SetCoefficient sets the coefficients of x and y in the expression for the constraint.\n"
      ]
    },
    {
      "cell_type": "code",
      "metadata": {
        "id": "h4lTonds7pO8",
        "colab_type": "code",
        "colab": {}
      },
      "source": [
        "# Create the objective function, 3 * x + y\n",
        "\n",
        "objective = solver.Objective()\n",
        "objective.SetCoefficient(var=x, coeff=3)\n",
        "objective.SetCoefficient(var=y, coeff=1)\n",
        "objective.SetMaximization() # The method SetMaximization declares this to be a maximization problem.\n"
      ],
      "execution_count": 0,
      "outputs": []
    },
    {
      "cell_type": "code",
      "metadata": {
        "id": "IYSG1idtbarA",
        "colab_type": "code",
        "outputId": "7cb6a13d-f36f-44f7-fe83-fa55e852fc7d",
        "colab": {
          "base_uri": "https://localhost:8080/",
          "height": 34
        }
      },
      "source": [
        "# Invoke the solver and display the results.\n",
        "\n",
        "solver.Solve()"
      ],
      "execution_count": 0,
      "outputs": [
        {
          "output_type": "execute_result",
          "data": {
            "text/plain": [
              "0"
            ]
          },
          "metadata": {
            "tags": []
          },
          "execution_count": 8
        }
      ]
    },
    {
      "cell_type": "code",
      "metadata": {
        "id": "vVOaHjzObxZs",
        "colab_type": "code",
        "outputId": "4b62d726-39af-4771-ad7d-39a49d7849b4",
        "colab": {
          "base_uri": "https://localhost:8080/",
          "height": 87
        }
      },
      "source": [
        "print ('Solution:')\n",
        "print ('Objectiev value: = ', objective.Value()) # returns the objective value of the best solution found so far\n",
        "print ('x = ', x.solution_value())\n",
        "print ('x = ', y.solution_value())"
      ],
      "execution_count": 0,
      "outputs": [
        {
          "output_type": "stream",
          "text": [
            "Solution:\n",
            "Objectiev value: =  4.0\n",
            "x =  1.0\n",
            "x =  1.0\n"
          ],
          "name": "stdout"
        }
      ]
    },
    {
      "cell_type": "markdown",
      "metadata": {
        "id": "r7DyXJDHEaPk",
        "colab_type": "text"
      },
      "source": [
        "## The Glop Linear Solver\n",
        "\n",
        "> [Guide link by Google](https://developers.google.com/optimization/lp/glop)\n",
        "\n",
        "\n",
        "### A simple example\n",
        "\n",
        "Maximize `3x + 4y` subject to the following constraints:\n",
        "\n",
        "```\n",
        "x + 2y\t≤\t14\n",
        "\n",
        "3x – y\t≥\t0\n",
        "\n",
        "x – y\t≤\t2\n",
        "```\n",
        "\n",
        "**Both the objective function, 3x + 4y, and the constraints are given by linear expressions, which makes this a linear problem.**\n",
        "\n",
        "The constraints define the feasible region, which is the triangle shown below, including its interior.\n",
        "\n",
        "![](https://developers.google.com/optimization/images/lp/feasible_region.png)\n",
        "\n",
        "The following sections explain how to solve the problem.\n",
        "\n"
      ]
    },
    {
      "cell_type": "markdown",
      "metadata": {
        "id": "dxMd4mjrK-qe",
        "colab_type": "text"
      },
      "source": [
        "The following code declares the solver. MPsolver is a wrapper for several different solvers, including Glop. Appending GLOP_LINEAR_PROGRAMMING tells the solver to use Glop."
      ]
    },
    {
      "cell_type": "code",
      "metadata": {
        "id": "5xtDs486K9-h",
        "colab_type": "code",
        "colab": {}
      },
      "source": [
        "solver_2 = pywraplp.Solver('LinearProgrammingExample',\n",
        "                         pywraplp.Solver.GLOP_LINEAR_PROGRAMMING)"
      ],
      "execution_count": 0,
      "outputs": []
    },
    {
      "cell_type": "code",
      "metadata": {
        "id": "LlZSVMrmFFUE",
        "colab_type": "code",
        "colab": {}
      },
      "source": [
        "# create the variables\n",
        "x = solver_2.NumVar(lb=0, ub=solver_2.infinity(), name='x') # why lower bound of 0 ? in the feasible reagion x can be -ve as well\n",
        "y = solver_2.NumVar(lb=0, ub=solver_2.infinity(), name='y') # again, y may be -ve as well\n",
        "\n",
        "\n",
        "# Next, define the constraints on the variables.\n",
        "# Give each constraint a unique name (such as constraint0), and then define the coefficients for the constraint.\n",
        "\n",
        "### Constraint 0: x + 2y <= 14\n",
        "contstraint0 = solver_2.Constraint(-solver_2.infinity(), 14)\n",
        "contstraint0.SetCoefficient(var=x, coeff=1)\n",
        "contstraint0.SetCoefficient(var=y, coeff=2)\n",
        "\n",
        "### Constraint 1: 3x - y >= 0\n",
        "contstraint1 = solver_2.Constraint(0, solver_2.infinity())\n",
        "contstraint1.SetCoefficient(var=x, coeff=3)\n",
        "contstraint1.SetCoefficient(var=y, coeff=-1)\n",
        "\n",
        "### Constraint 2: x - y <= 2.\n",
        "contstraint2 = solver_2.Constraint(-solver_2.infinity(), 2)\n",
        "contstraint2.SetCoefficient(var=x, coeff=1)\n",
        "contstraint2.SetCoefficient(var=y, coeff=-1)\n"
      ],
      "execution_count": 0,
      "outputs": []
    },
    {
      "cell_type": "code",
      "metadata": {
        "id": "ZZGlyfc8KMJN",
        "colab_type": "code",
        "outputId": "0b4e0727-a788-4e47-d7d0-a1c22ba6724f",
        "colab": {
          "base_uri": "https://localhost:8080/",
          "height": 34
        }
      },
      "source": [
        "solver_2.NumConstraints(), solver_2.NumVariables()"
      ],
      "execution_count": 0,
      "outputs": [
        {
          "output_type": "execute_result",
          "data": {
            "text/plain": [
              "(3, 2)"
            ]
          },
          "metadata": {
            "tags": []
          },
          "execution_count": 20
        }
      ]
    },
    {
      "cell_type": "code",
      "metadata": {
        "id": "gbJuQOVOKzLO",
        "colab_type": "code",
        "colab": {}
      },
      "source": [
        "# Define the objective function\n",
        "## The following code defines the objective function, 3x + 4y, and specifies that this is a maximization problem.\n",
        "### Objective function: 3x + 4y\n",
        "\n",
        "objective_2 = solver_2.Objective()\n",
        "objective_2.SetCoefficient(var=x, coeff=3)\n",
        "objective_2.SetCoefficient(var=y, coeff=4)\n",
        "objective_2.SetMaximization()\n"
      ],
      "execution_count": 0,
      "outputs": []
    },
    {
      "cell_type": "code",
      "metadata": {
        "id": "ug6vUv6cL1nS",
        "colab_type": "code",
        "outputId": "ceb2ad36-a0c9-4e4f-e14e-c8c8fa2d3b65",
        "colab": {
          "base_uri": "https://localhost:8080/",
          "height": 123
        }
      },
      "source": [
        "# Solve the system.\n",
        "solver_2.Solve()\n",
        "\n",
        "# display the soln values\n",
        "opt_solution = 3*x.solution_value() + 4*y.solution_value()\n",
        "print('Number of variables =', solver_2.NumVariables())\n",
        "print('Number of constraints =', solver_2.NumConstraints())\n",
        "# The value of each variable in the solution.\n",
        "\n",
        "print('Solution:')\n",
        "print('x = ', x.solution_value())\n",
        "print('y = ', y.solution_value())\n",
        "\n",
        "# The objective value of the solution.\n",
        "print('Optimal objective value =', opt_solution)"
      ],
      "execution_count": 0,
      "outputs": [
        {
          "output_type": "stream",
          "text": [
            "Number of variables = 2\n",
            "Number of constraints = 3\n",
            "Solution:\n",
            "x =  5.999999999999998\n",
            "y =  3.9999999999999996\n",
            "Optimal objective value = 33.99999999999999\n"
          ],
          "name": "stdout"
        }
      ]
    },
    {
      "cell_type": "markdown",
      "metadata": {
        "id": "SZtHWgAsMZ2C",
        "colab_type": "text"
      },
      "source": [
        "Here is a graph showing the solution:\n",
        "\n",
        "![](https://developers.google.com/optimization/images/lp/feasible_region_solution.png)\n",
        "\n",
        "The dashed green line is defined by setting the objective function equal to its optimal value of 34. Any line whose equation has the form 3x + 4y = c is parallel to the dashed line, and 34 is the largest value of c for which the line intersects the feasible region.\n",
        "\n",
        "If you think about the geometry in the above graph, in any linear optimization problem at least one vertex of the feasible region must be an optimal solution. As a result, you can find an optimal solution by traversing the vertices of the feasible region until there is no more improvement in the objective function. This is the idea behind simplex algorithm, the most widely-used method for solving linear optimization problems.\n",
        "\n"
      ]
    },
    {
      "cell_type": "markdown",
      "metadata": {
        "id": "_goThuuGShWV",
        "colab_type": "text"
      },
      "source": [
        "### The Stigler diet\n",
        "\n",
        "In this section, we show how to solve a classic problem called the Stigler diet, named for economics Nobel laureate George Stigler, who computed an inexpensive way to fulfill basic nutritional needs given a set of foods. He posed this as a mathematical exercise, not as eating recommendations, although the notion of computing optimal nutrition has of come into vogue recently.\n",
        "\n",
        "The Stigler diet mandated that these minimums be met:\n",
        "```\n",
        "Nutrient\tDaily Recommended Intake\n",
        "Calories\t3,000 Calories\n",
        "Protein\t70 grams\n",
        "Calcium\t.8 grams\n",
        "Iron\t12 milligrams\n",
        "Vitamin A\t5,000 IU\n",
        "Thiamine (Vitamin B1)\t1.8 milligrams\n",
        "Riboflavin (Vitamin B2)\t2.7 milligrams\n",
        "Niacin\t18 milligrams\n",
        "Ascorbic Acid (Vitamin C)\t75 milligrams\n",
        "```\n",
        "\n",
        "The set of foods Stigler evaluated was a reflection of the time (1944). \n",
        "\n",
        "\n",
        "\n",
        "**The nutritional data below is per dollar, not per unit, so the objective is to determine how many dollars to spend on each foodstuff.** - NOTE when you are applying to your projects\n",
        "\n",
        "Snapshot of the nutritional data table:\n",
        "\n",
        "<img src='./img/diag2.png'>\n",
        "\n",
        "The following code creates a Python array data for the nutritional data table, and an array nutrients for the minimum nutrient requirements in any solution.\n",
        "\n",
        "the units in the nutrition table is cal/dollar, protein/dollar etc.\n",
        "\n",
        "So basically if we say we need x dollars of wheat -> qty of wheat we get is `x/.36`, so `44.7*x/10*0.36` will be the calories we get from it and `x*1411` will be the protein we get from 10lb of wheat"
      ]
    },
    {
      "cell_type": "code",
      "metadata": {
        "id": "HKuglF1HMSHZ",
        "colab_type": "code",
        "colab": {}
      },
      "source": [
        "data = [\n",
        "  ['Wheat Flour (Enriched)', '10 lb.', 36, 44.7, 1411, 2, 365, 0, 55.4, 33.3, 441, 0],\n",
        "  ['Macaroni', '1 lb.', 14.1, 11.6, 418, 0.7, 54, 0, 3.2, 1.9, 68, 0],\n",
        "  ['Wheat Cereal (Enriched)', '28 oz.', 24.2, 11.8, 377, 14.4, 175, 0, 14.4, 8.8, 114, 0],\n",
        "  ['Corn Flakes', '8 oz.', 7.1, 11.4, 252, 0.1, 56, 0, 13.5, 2.3, 68, 0],\n",
        "  ['Corn Meal', '1 lb.', 4.6, 36.0, 897, 1.7, 99, 30.9, 17.4, 7.9, 106, 0],\n",
        "  ['Hominy Grits', '24 oz.', 8.5, 28.6, 680, 0.8, 80, 0, 10.6, 1.6, 110, 0],\n",
        "  ['Rice', '1 lb.', 7.5, 21.2, 460, 0.6, 41, 0, 2, 4.8, 60, 0],\n",
        "  ['Rolled Oats', '1 lb.', 7.1, 25.3, 907, 5.1, 341, 0, 37.1, 8.9, 64, 0],\n",
        "  ['White Bread (Enriched)', '1 lb.', 7.9, 15.0, 488, 2.5, 115, 0, 13.8, 8.5, 126, 0],\n",
        "  ['Whole Wheat Bread', '1 lb.', 9.1, 12.2, 484, 2.7, 125, 0, 13.9, 6.4, 160, 0],\n",
        "  ['Rye Bread', '1 lb.', 9.1, 12.4, 439, 1.1, 82, 0, 9.9, 3, 66, 0],\n",
        "  ['Pound Cake', '1 lb.', 24.8, 8.0, 130, 0.4, 31, 18.9, 2.8, 3, 17, 0],\n",
        "  ['Soda Crackers', '1 lb.', 15.1, 12.5, 288, 0.5, 50, 0, 0, 0, 0, 0],\n",
        "  ['Milk', '1 qt.', 11, 6.1, 310, 10.5, 18, 16.8, 4, 16, 7, 177],\n",
        "  ['Evaporated Milk (can)', '14.5 oz.', 6.7, 8.4, 422, 15.1, 9, 26, 3, 23.5, 11, 60],\n",
        "  ['Butter', '1 lb.', 30.8, 10.8, 9, 0.2, 3, 44.2, 0, 0.2, 2, 0],\n",
        "  ['Oleomargarine', '1 lb.', 16.1, 20.6, 17, 0.6, 6, 55.8, 0.2, 0, 0, 0],\n",
        "  ['Eggs', '1 doz.', 32.6, 2.9, 238, 1.0, 52, 18.6, 2.8, 6.5, 1, 0],\n",
        "  ['Cheese (Cheddar)', '1 lb.', 24.2, 7.4, 448, 16.4, 19, 28.1, 0.8, 10.3, 4, 0],\n",
        "  ['Cream', '1/2 pt.', 14.1, 3.5, 49, 1.7, 3, 16.9, 0.6, 2.5, 0, 17],\n",
        "  ['Peanut Butter', '1 lb.', 17.9, 15.7, 661, 1.0, 48, 0, 9.6, 8.1, 471, 0],\n",
        "  ['Mayonnaise', '1/2 pt.', 16.7, 8.6, 18, 0.2, 8, 2.7, 0.4, 0.5, 0, 0],\n",
        "  ['Crisco', '1 lb.', 20.3, 20.1, 0, 0, 0, 0, 0, 0, 0, 0],\n",
        "  ['Lard', '1 lb.', 9.8, 41.7, 0, 0, 0, 0.2, 0, 0.5, 5, 0],\n",
        "  ['Sirloin Steak', '1 lb.', 39.6, 2.9, 166, 0.1, 34, 0.2, 2.1, 2.9, 69, 0],\n",
        "  ['Round Steak', '1 lb.', 36.4, 2.2, 214, 0.1, 32, 0.4, 2.5, 2.4, 87, 0],\n",
        "  ['Rib Roast', '1 lb.', 29.2, 3.4, 213, 0.1, 33, 0, 0, 2, 0, 0],\n",
        "  ['Chuck Roast', '1 lb.', 22.6, 3.6, 309, 0.2, 46, 0.4, 1, 4, 120, 0],\n",
        "  ['Plate', '1 lb.', 14.6, 8.5, 404, 0.2, 62, 0, 0.9, 0, 0, 0],\n",
        "  ['Liver (Beef)', '1 lb.', 26.8, 2.2, 333, 0.2, 139, 169.2, 6.4, 50.8, 316, 525],\n",
        "  ['Leg of Lamb', '1 lb.', 27.6, 3.1, 245, 0.1, 20, 0, 2.8, 3.9, 86, 0],\n",
        "  ['Lamb Chops (Rib)', '1 lb.', 36.6, 3.3, 140, 0.1, 15, 0, 1.7, 2.7, 54, 0],\n",
        "  ['Pork Chops', '1 lb.', 30.7, 3.5, 196, 0.2, 30, 0, 17.4, 2.7, 60, 0],\n",
        "  ['Pork Loin Roast', '1 lb.', 24.2, 4.4, 249, 0.3, 37, 0, 18.2, 3.6, 79, 0],\n",
        "  ['Bacon', '1 lb.', 25.6, 10.4, 152, 0.2, 23, 0, 1.8, 1.8, 71, 0],\n",
        "  ['Ham, smoked', '1 lb.', 27.4, 6.7, 212, 0.2, 31, 0, 9.9, 3.3, 50, 0],\n",
        "  ['Salt Pork', '1 lb.', 16, 18.8, 164, 0.1, 26, 0, 1.4, 1.8, 0, 0],\n",
        "  ['Roasting Chicken', '1 lb.', 30.3, 1.8, 184, 0.1, 30, 0.1, 0.9, 1.8, 68, 46],\n",
        "  ['Veal Cutlets', '1 lb.', 42.3, 1.7, 156, 0.1, 24, 0, 1.4, 2.4, 57, 0],\n",
        "  ['Salmon, Pink (can)', '16 oz.', 13, 5.8, 705, 6.8, 45, 3.5, 1, 4.9, 209, 0],\n",
        "  ['Apples', '1 lb.', 4.4, 5.8, 27, 0.5, 36, 7.3, 3.6, 2.7, 5, 544],\n",
        "  ['Bananas', '1 lb.', 6.1, 4.9, 60, 0.4, 30, 17.4, 2.5, 3.5, 28, 498],\n",
        "  ['Lemons', '1 doz.', 26, 1.0, 21, 0.5, 14, 0, 0.5, 0, 4, 952],\n",
        "  ['Oranges', '1 doz.', 30.9, 2.2, 40, 1.1, 18, 11.1, 3.6, 1.3, 10, 1998],\n",
        "  ['Green Beans', '1 lb.', 7.1, 2.4, 138, 3.7, 80, 69, 4.3, 5.8, 37, 862],\n",
        "  ['Cabbage', '1 lb.', 3.7, 2.6, 125, 4.0, 36, 7.2, 9, 4.5, 26, 5369],\n",
        "  ['Carrots', '1 bunch', 4.7, 2.7, 73, 2.8, 43, 188.5, 6.1, 4.3, 89, 608],\n",
        "  ['Celery', '1 stalk', 7.3, 0.9, 51, 3.0, 23, 0.9, 1.4, 1.4, 9, 313],\n",
        "  ['Lettuce', '1 head', 8.2, 0.4, 27, 1.1, 22, 112.4, 1.8, 3.4, 11, 449],\n",
        "  ['Onions', '1 lb.', 3.6, 5.8, 166, 3.8, 59, 16.6, 4.7, 5.9, 21, 1184],\n",
        "  ['Potatoes', '15 lb.', 34, 14.3, 336, 1.8, 118, 6.7, 29.4, 7.1, 198, 2522],\n",
        "  ['Spinach', '1 lb.', 8.1, 1.1, 106, 0, 138, 918.4, 5.7, 13.8, 33, 2755],\n",
        "  ['Sweet Potatoes', '1 lb.', 5.1, 9.6, 138, 2.7, 54, 290.7, 8.4, 5.4, 83, 1912],\n",
        "  ['Peaches (can)', 'No. 2 1/2', 16.8, 3.7, 20, 0.4, 10, 21.5, 0.5, 1, 31, 196],\n",
        "  ['Pears (can)', 'No. 2 1/2', 20.4, 3.0, 8, 0.3, 8, 0.8, 0.8, 0.8, 5, 81],\n",
        "  ['Pineapple (can)', 'No. 2 1/2', 21.3, 2.4, 16, 0.4, 8, 2, 2.8, 0.8, 7, 399],\n",
        "  ['Asparagus (can)', 'No. 2', 27.7, 0.4, 33, 0.3, 12, 16.3, 1.4, 2.1, 17, 272],\n",
        "  ['Green Beans (can)', 'No. 2', 10, 1.0, 54, 2, 65, 53.9, 1.6, 4.3, 32, 431],\n",
        "  ['Pork and Beans (can)', '16 oz.', 7.1, 7.5, 364, 4, 134, 3.5, 8.3, 7.7, 56, 0],\n",
        "  ['Corn (can)', 'No. 2', 10.4, 5.2, 136, 0.2, 16, 12, 1.6, 2.7, 42, 218],\n",
        "  ['Peas (can)', 'No. 2', 13.8, 2.3, 136, 0.6, 45, 34.9, 4.9, 2.5, 37, 370],\n",
        "  ['Tomatoes (can)', 'No. 2', 8.6, 1.3, 63, 0.7, 38, 53.2, 3.4, 2.5, 36, 1253],\n",
        "  ['Tomato Soup (can)', '10 1/2 oz.', 7.6, 1.6, 71, 0.6, 43, 57.9, 3.5, 2.4, 67, 862],\n",
        "  ['Peaches, Dried', '1 lb.', 15.7, 8.5, 87, 1.7, 173, 86.8, 1.2, 4.3, 55, 57],\n",
        "  ['Prunes, Dried', '1 lb.', 9, 12.8, 99, 2.5, 154, 85.7, 3.9, 4.3, 65, 257],\n",
        "  ['Raisins, Dried', '15 oz.', 9.4, 13.5, 104, 2.5, 136, 4.5, 6.3, 1.4, 24, 136],\n",
        "  ['Peas, Dried', '1 lb.', 7.9, 20.0, 1367, 4.2, 345, 2.9, 28.7, 18.4, 162, 0],\n",
        "  ['Lima Beans, Dried', '1 lb.', 8.9, 17.4, 1055, 3.7, 459, 5.1, 26.9, 38.2, 93, 0],\n",
        "  ['Navy Beans, Dried', '1 lb.', 5.9, 26.9, 1691, 11.4, 792, 0, 38.4, 24.6, 217, 0],\n",
        "  ['Coffee', '1 lb.', 22.4, 0, 0, 0, 0, 0, 4, 5.1, 50, 0],\n",
        "  ['Tea', '1/4 lb.', 17.4, 0, 0, 0, 0, 0, 0, 2.3, 42, 0],\n",
        "  ['Cocoa', '8 oz.', 8.6, 8.7, 237, 3, 72, 0, 2, 11.9, 40, 0],\n",
        "  ['Chocolate', '8 oz.', 16.2, 8.0, 77, 1.3, 39, 0, 0.9, 3.4, 14, 0],\n",
        "  ['Sugar', '10 lb.', 51.7, 34.9, 0, 0, 0, 0, 0, 0, 0, 0],\n",
        "  ['Corn Syrup', '24 oz.', 13.7, 14.7, 0, 0.5, 74, 0, 0, 0, 5, 0],\n",
        "  ['Molasses', '18 oz.', 13.6, 9.0, 0, 10.3, 244, 0, 1.9, 7.5, 146, 0],\n",
        "  ['Strawberry Preserves', '1 lb.', 20.5, 6.4, 11, 0.4, 7, 0.2, 0.2, 0.4, 3, 0]];\n",
        "\n",
        "# Nutrient minimums.\n",
        "nutrients = [\n",
        "    ['Calories (1000s)', 3],\n",
        "    ['Protein (grams)', 70],\n",
        "    ['Calcium (grams)', 0.8],\n",
        "    ['Iron (mg)', 12],\n",
        "    ['Vitamin A (1000 IU)', 5],\n",
        "    ['Vitamin B1 (mg)', 1.8],\n",
        "    ['Vitamin B2 (mg)', 2.7],\n",
        "    ['Niacin (mg)', 18],\n",
        "    ['Vitamin C (mg)', 75]]"
      ],
      "execution_count": 0,
      "outputs": []
    },
    {
      "cell_type": "markdown",
      "metadata": {
        "id": "bBteltzhcmk6",
        "colab_type": "text"
      },
      "source": [
        "### Create the variables and define the objective\n",
        "\n",
        "The following code creates the variables and defines the objective function for the problem.\n",
        "\n"
      ]
    },
    {
      "cell_type": "code",
      "metadata": {
        "id": "mgr3J-GtTiUn",
        "colab_type": "code",
        "colab": {}
      },
      "source": [
        "solver_stigler = pywraplp.Solver('StiglerExample',\n",
        "                         pywraplp.Solver.GLOP_LINEAR_PROGRAMMING)"
      ],
      "execution_count": 0,
      "outputs": []
    },
    {
      "cell_type": "code",
      "metadata": {
        "id": "m9qENn8Lczc0",
        "colab_type": "code",
        "outputId": "f2f3833a-4f8f-4ceb-c00f-daae44db5676",
        "colab": {
          "base_uri": "https://localhost:8080/",
          "height": 54
        }
      },
      "source": [
        "food = [[]] * len(data)\n",
        "\n",
        "print (food)"
      ],
      "execution_count": 0,
      "outputs": [
        {
          "output_type": "stream",
          "text": [
            "[[], [], [], [], [], [], [], [], [], [], [], [], [], [], [], [], [], [], [], [], [], [], [], [], [], [], [], [], [], [], [], [], [], [], [], [], [], [], [], [], [], [], [], [], [], [], [], [], [], [], [], [], [], [], [], [], [], [], [], [], [], [], [], [], [], [], [], [], [], [], [], [], [], [], [], [], []]\n"
          ],
          "name": "stdout"
        }
      ]
    },
    {
      "cell_type": "markdown",
      "metadata": {
        "id": "O7iTEW4bbt-c",
        "colab_type": "text"
      },
      "source": [
        "> Stigler Diet: To be continued"
      ]
    },
    {
      "cell_type": "markdown",
      "metadata": {
        "id": "8-WcCgKdbzBz",
        "colab_type": "text"
      },
      "source": [
        "## Integer Optimization\n",
        "\n",
        "\n",
        "Problems that require some of the variables to be integers, but not all, are often called Mixed Integer Programs (MIPs) or Mixed Integer Linear Programs (MILPs). Here are a couple of examples:\n",
        "\n",
        "- A company that sells various consumer items needs to decide how many of each to manufacture per month in order to maximize profit. In this type of problem, the variables represent quantities of discrete items, such as cars or television sets, which must be integers.\n",
        "\n",
        "- A package delivery company needs to assign trucks to various routes in order to meet their delivery schedule while minimizing cost. Sometimes the best way to set up a problem like this is to let the variables represent binary (0-1) decisions of which trucks to assign to which routes. The variable is 1 if a given truck is assigned to a specific route, and 0 otherwise. Since the variables can only take on the values 0 or 1, this is also an integer optimization problem. (In particular, it's a Boolean optimization problem, which OR-Tools has specialized techniques for solving.)\n",
        "\n",
        "### Mixed-Integer Programming\n",
        "\n",
        "\n",
        "To use a MIP solver in OR-Tools, your program should include the following three sections.\n",
        "\n",
        "To use a MIP solver, you first import (or include) the OR-Tools linear solver wrapper, an interface for both MIP solvers and the Glop LP solver, as shown below."
      ]
    },
    {
      "cell_type": "markdown",
      "metadata": {
        "id": "Z8ez2peCd7Pw",
        "colab_type": "text"
      },
      "source": [
        "### MIP Example\n",
        "\n",
        "The following sections present an example of a MIP and show how to solve it. Here's the problem:\n",
        "\n",
        "\n",
        "> Maximize **x + 10y** subject to the following constraints:\n",
        "\n",
        "```\n",
        "x + 7 y\t≤\t17.5\n",
        "x\t≤\t3.5\n",
        "x\t≥\t0\n",
        "y\t≥\t0\n",
        "x, y integers\n",
        "\n",
        "```\n",
        "\n",
        "Since the constraints are linear, this is just a linear optimization problem in which the solutions are required to be integers. The graph below shows the integer points in the feasible region for the problem.\n",
        "\n",
        "![](https://developers.google.com/optimization/images/mip/feasible_region.png)\n",
        "\n",
        "Notice that this problem is very similar to the linear optimization problem described in Linear Optimization with Glop, but in this case we require the solutions to be integers.\n",
        "\n"
      ]
    },
    {
      "cell_type": "code",
      "metadata": {
        "id": "q62k5mm9c7JK",
        "colab_type": "code",
        "colab": {}
      },
      "source": [
        "from ortools.linear_solver import pywraplp\n",
        "\n",
        "## Declare the MIP solver you want to use. The code below declares the CBC solver.\n",
        "\n",
        "solver_mip = pywraplp.Solver(name='simple_mip_program', problem_type=pywraplp.Solver.CBC_MIXED_INTEGER_PROGRAMMING)"
      ],
      "execution_count": 0,
      "outputs": []
    },
    {
      "cell_type": "code",
      "metadata": {
        "id": "DEIOOmp0d374",
        "colab_type": "code",
        "outputId": "5df03d15-1284-4423-bc44-b9a3f6134438",
        "colab": {
          "base_uri": "https://localhost:8080/",
          "height": 34
        }
      },
      "source": [
        "## Define the variables\n",
        "\n",
        "infinity = solver_mip.infinity()\n",
        "\n",
        "# x and y are integer non-negative variables.\n",
        "x = solver_mip.IntVar(lb=0.0, ub=infinity, name='x')\n",
        "y = solver_mip.IntVar(lb=0.0, ub=infinity, name='y')\n",
        "\n",
        "print('Number of variables =', solver_mip.NumVariables())\n"
      ],
      "execution_count": 0,
      "outputs": [
        {
          "output_type": "stream",
          "text": [
            "Number of variables = 2\n"
          ],
          "name": "stdout"
        }
      ]
    },
    {
      "cell_type": "code",
      "metadata": {
        "id": "kiSHMCU-e4ko",
        "colab_type": "code",
        "outputId": "4ffdbb45-e082-4823-9c5d-62ef9362f9b3",
        "colab": {
          "base_uri": "https://localhost:8080/",
          "height": 34
        }
      },
      "source": [
        "## Define the constraints\n",
        "\n",
        "### x + 7 * y <= 17.5\n",
        "solver_mip.Add(constraint=x+7*y<=17.5) # NOTE: this is slightly diff than GLOP\n",
        "\n",
        "### x <= 3.5\n",
        "solver_mip.Add(constraint=x<=3.5)\n",
        "\n",
        "print('Number of constraints =', solver_mip.NumConstraints())"
      ],
      "execution_count": 0,
      "outputs": [
        {
          "output_type": "stream",
          "text": [
            "Number of constraints = 2\n"
          ],
          "name": "stdout"
        }
      ]
    },
    {
      "cell_type": "code",
      "metadata": {
        "id": "qzMAEASEffZ_",
        "colab_type": "code",
        "colab": {}
      },
      "source": [
        "## Define the objective\n",
        "\n",
        "### Maximize x + 10 * y\n",
        "\n",
        "solver_mip.Maximize(expr=x+10*y) # NOTE: this is slightly diff than GLOP\n",
        "\n",
        "## The following code calls the solver.\n",
        "\n",
        "status = solver_mip.Solve()"
      ],
      "execution_count": 0,
      "outputs": []
    },
    {
      "cell_type": "code",
      "metadata": {
        "id": "isBDjhy0fuq7",
        "colab_type": "code",
        "outputId": "44f6919c-6869-434a-b746-f8c7f44e0708",
        "colab": {
          "base_uri": "https://localhost:8080/",
          "height": 34
        }
      },
      "source": [
        "print (status, pywraplp.Solver.OPTIMAL)"
      ],
      "execution_count": 0,
      "outputs": [
        {
          "output_type": "stream",
          "text": [
            "0 0\n"
          ],
          "name": "stdout"
        }
      ]
    },
    {
      "cell_type": "code",
      "metadata": {
        "id": "WXvxChFlfx1a",
        "colab_type": "code",
        "outputId": "6a057657-ed90-404f-f9a3-076c803d5f92",
        "colab": {
          "base_uri": "https://localhost:8080/",
          "height": 87
        }
      },
      "source": [
        "if status == pywraplp.Solver.OPTIMAL:\n",
        "    print('Solution:')\n",
        "    print('Objective value =', solver_mip.Objective().Value())\n",
        "    print('x =', x.solution_value())\n",
        "    print('y =', y.solution_value())\n",
        "else:\n",
        "    print('The problem does not have an optimal solution.')"
      ],
      "execution_count": 0,
      "outputs": [
        {
          "output_type": "stream",
          "text": [
            "Solution:\n",
            "Objective value = 23.0\n",
            "x = 3.0\n",
            "y = 2.0\n"
          ],
          "name": "stdout"
        }
      ]
    },
    {
      "cell_type": "markdown",
      "metadata": {
        "id": "FPgv9xUCpj5m",
        "colab_type": "text"
      },
      "source": [
        "## Comparing Linear and Integer Optimization\n",
        "\n",
        "Let's compare the solution to the integer optimization problem, shown above, with the solution to the corresponding linear optimization problem, in which integer constraints are removed. You might guess that the solution to the integer problem would be the integer point in the feasible region closest to the linear solution — namely, the point x = 0,  y = 2. But as you will see next, this is not the case.\n",
        "\n"
      ]
    },
    {
      "cell_type": "code",
      "metadata": {
        "id": "QnP5IBVMgTiD",
        "colab_type": "code",
        "colab": {}
      },
      "source": [
        "## Replace the MIP solver with LP solver\n",
        "\n",
        "solver_linear = pywraplp.Solver(name='mip_lp_problem', problem_type=pywraplp.Solver.GLOP_LINEAR_PROGRAMMING)"
      ],
      "execution_count": 0,
      "outputs": []
    },
    {
      "cell_type": "code",
      "metadata": {
        "id": "fJ2Qc5reqKJq",
        "colab_type": "code",
        "outputId": "c9b0a0b5-1155-4b7c-de3f-d4833ac8357f",
        "colab": {
          "base_uri": "https://localhost:8080/",
          "height": 34
        }
      },
      "source": [
        "## Replace the integer variables with continuous variables\n",
        "\n",
        "infinity = solver_linear.infinity()\n",
        "x = solver_linear.NumVar(0, infinity, 'x')\n",
        "y = solver_linear.NumVar(0, infinity, 'y')\n",
        "\n",
        "print('Number of variables =', solver_linear.NumVariables())"
      ],
      "execution_count": 0,
      "outputs": [
        {
          "output_type": "stream",
          "text": [
            "Number of variables = 2\n"
          ],
          "name": "stdout"
        }
      ]
    },
    {
      "cell_type": "code",
      "metadata": {
        "id": "NlBwPdRQqUdW",
        "colab_type": "code",
        "outputId": "e6ea29f1-f8df-406e-a646-15ca616cedae",
        "colab": {
          "base_uri": "https://localhost:8080/",
          "height": 34
        }
      },
      "source": [
        "## Define the constraints and objectives similar to above\n",
        "\n",
        "### x + 7 * y <= 17.5\n",
        "solver_linear.Add(constraint=x+7*y<=17.5)\n",
        "\n",
        "### x <= 3.5\n",
        "solver_linear.Add(constraint=x<=3.5)\n",
        "\n",
        "print('Number of constraints =', solver_linear.NumConstraints())"
      ],
      "execution_count": 0,
      "outputs": [
        {
          "output_type": "stream",
          "text": [
            "Number of constraints = 2\n"
          ],
          "name": "stdout"
        }
      ]
    },
    {
      "cell_type": "code",
      "metadata": {
        "id": "M3C7wq78r2ir",
        "colab_type": "code",
        "colab": {}
      },
      "source": [
        "## Define the objective\n",
        "\n",
        "### Maximize x + 10 * y\n",
        "\n",
        "solver_linear.Maximize(expr=x+10*y)\n",
        "\n",
        "## The following code calls the solver.\n",
        "\n",
        "status = solver_linear.Solve()"
      ],
      "execution_count": 0,
      "outputs": []
    },
    {
      "cell_type": "code",
      "metadata": {
        "id": "fL72A303r81C",
        "colab_type": "code",
        "outputId": "737632de-d370-43f4-de6d-b05015d982fb",
        "colab": {
          "base_uri": "https://localhost:8080/",
          "height": 87
        }
      },
      "source": [
        "if status == pywraplp.Solver.OPTIMAL:\n",
        "    print('Solution:')\n",
        "    print('Objective value =', solver_linear.Objective().Value())\n",
        "    print('x =', x.solution_value())\n",
        "    print('y =', y.solution_value())\n",
        "else:\n",
        "    print('The problem does not have an optimal solution.')"
      ],
      "execution_count": 0,
      "outputs": [
        {
          "output_type": "stream",
          "text": [
            "Solution:\n",
            "Objective value = 25.0\n",
            "x = 0.0\n",
            "y = 2.5\n"
          ],
          "name": "stdout"
        }
      ]
    },
    {
      "cell_type": "markdown",
      "metadata": {
        "id": "kOsRgceXrgk3",
        "colab_type": "text"
      },
      "source": [
        "TODO: Change bound of x and see if we get same result - done ok\n",
        "\n",
        "TODO: there is syntactic diff in the GLOP approach shown here and the first example - check that both give same results - done ok\n",
        "\n",
        "``` python\n",
        "\n",
        "contstraint0 = solver_linear.Constraint(-infinity, 17.5)\n",
        "contstraint0.SetCoefficient(var=x, coeff=1)\n",
        "contstraint0.SetCoefficient(var=y, coeff=7)\n",
        "\n",
        "contstraint1 = solver_linear.Constraint(-infinity, 3.5)\n",
        "contstraint1.SetCoefficient(var=x, coeff=1)\n",
        "\n",
        "objective = solver_linear.Objective()\n",
        "objective.SetCoefficient(x, 1)\n",
        "objective.SetCoefficient(y, 10)\n",
        "objective.SetMaximization()\n",
        "\n",
        "solver_linear.Solve()\n",
        "\n",
        "opt_solution = x.solution_value() + 10 * y.solution_value()\n",
        "\n",
        "print('Solution:')\n",
        "print('x = ', x.solution_value())\n",
        "print('y = ', y.solution_value())\n",
        "# The objective value of the solution.\n",
        "print('Optimal objective value =', opt_solution)\n",
        "```"
      ]
    },
    {
      "cell_type": "markdown",
      "metadata": {
        "id": "qdoQFjcEsFoJ",
        "colab_type": "text"
      },
      "source": [
        "> The solution to the linear problem occurs at the point x = 0,  y = 2.5, where the objective function equals 25. Here's a graph showing the solutions to both the linear and integer problems.\n",
        "\n",
        "![](https://developers.google.com/optimization/images/mip/feasible_region_sol.png)\n",
        "\n",
        "\n",
        "**Notice that the integer solution is not close to the linear solution, compared with most other integer points in the feasible region. In general, the solutions to a linear optimization problem and the corresponding integer optimization problems can be far apart. Because of this, the two types of problems require different methods for their solution.**\n",
        "\n",
        "\n",
        "### Should I use MIP or CP-SAT?\n",
        "\n",
        "You can solve integer optimization problems with either a MIP solver or the CP-SAT solver. For standard integer programming problems, in which a feasible point must satisfy all constraints, the MIP solver is faster. In this case, the feasible set is convex: for any two points in the set, the line segment joining them lies entirely in the set.\n",
        "\n",
        "On the other hand, for problems with highly non-convex feasible sets, the CP-SAT solver is often faster than the MIP solver. Such problems arise when the feasible set is defined by many constraints joined by \"or,\" meaning that a point only needs to satisfy one of the constraints to be feasible. For an example, see Assignment with allowed groups.\n"
      ]
    },
    {
      "cell_type": "code",
      "metadata": {
        "id": "eqvw5SpPxOHW",
        "colab_type": "code",
        "outputId": "39155590-a1ba-4b73-f3d7-9ba2e9995104",
        "colab": {
          "base_uri": "https://localhost:8080/",
          "height": 34
        }
      },
      "source": [
        "import numpy as np\n",
        "\n",
        "\n",
        "sku_list = [11,12,13,14,15]\n",
        "price_lists = [\n",
        "               [10,9,8,8,8],\n",
        "               [11,10,9,8,8],\n",
        "               [9,8,8,8,8],\n",
        "               [12,11,10,9,8],\n",
        "               [11,10,9,8,8]\n",
        "]\n",
        "\n",
        "sales = [\n",
        "               [200, 220, 240, 240, 240],\n",
        "               [3000, 3300, 3800, 4000, 4000],\n",
        "               [50, 60, 60, 60, 60],\n",
        "               [2000, 2500, 3500, 4000, 4500],\n",
        "               [100, 101, 102, 103, 103]\n",
        "]\n",
        "\n",
        "price_lists_np = np.array(price_lists)\n",
        "\n",
        "sales_np = np.array(sales)\n",
        "\n",
        "print (price_lists_np.shape, sales_np.shape)\n",
        "\n",
        "sales_cash = np.multiply(price_lists_np, sales_np)"
      ],
      "execution_count": 3,
      "outputs": [
        {
          "output_type": "stream",
          "text": [
            "(5, 5) (5, 5)\n"
          ],
          "name": "stdout"
        }
      ]
    },
    {
      "cell_type": "code",
      "metadata": {
        "id": "Me7cqG3r4UK9",
        "colab_type": "code",
        "outputId": "4d6cbc1b-385d-47d0-a89c-61e001777a0e",
        "colab": {
          "base_uri": "https://localhost:8080/",
          "height": 105
        }
      },
      "source": [
        "sales_cash\n"
      ],
      "execution_count": 0,
      "outputs": [
        {
          "output_type": "execute_result",
          "data": {
            "text/plain": [
              "array([[ 2000,  1980,  1920,  1920,  1920],\n",
              "       [33000, 33000, 34200, 32000, 32000],\n",
              "       [  450,   480,   480,   480,   480],\n",
              "       [24000, 27500, 35000, 36000, 36000],\n",
              "       [ 1100,  1010,   918,   824,   824]])"
            ]
          },
          "metadata": {
            "tags": []
          },
          "execution_count": 3
        }
      ]
    },
    {
      "cell_type": "code",
      "metadata": {
        "id": "sNe5cZjh0Nbb",
        "colab_type": "code",
        "colab": {}
      },
      "source": [
        "from ortools.linear_solver import pywraplp\n",
        "\n",
        "\n",
        "solver_test = pywraplp.Solver(name='test1', problem_type=pywraplp.Solver.CBC_MIXED_INTEGER_PROGRAMMING)"
      ],
      "execution_count": 0,
      "outputs": []
    },
    {
      "cell_type": "code",
      "metadata": {
        "id": "u6W1YxIizFYw",
        "colab_type": "code",
        "outputId": "9197479a-a2eb-4f0c-8687-3c15683a3359",
        "colab": {
          "base_uri": "https://localhost:8080/",
          "height": 70
        }
      },
      "source": [
        "## objective for sku=11: max sales cash , if we have multiple objectives then we will have a y var, say margin and we want to maybe maximize a wt combination of x and y (3x+4y)\n",
        "\n",
        "x1 = solver_test.IntVar(lb=1920, ub=2000, name='x1')\n",
        "y1 = solver_test.IntVar(lb=1000, ub=1200, name='y1')\n",
        "\n",
        "x2 = solver_test.IntVar(lb=32000, ub=34200, name='x2')\n",
        "y2 = solver_test.IntVar(lb=30000, ub=40000, name='y2')\n",
        "\n",
        "x3 = solver_test.IntVar(lb=450, ub=480, name='x3')\n",
        "y3 = solver_test.IntVar(lb=200, ub=240, name='y3')\n",
        "\n",
        "x4 = solver_test.IntVar(lb=24000, ub=36000, name='x4')\n",
        "y4 = solver_test.IntVar(lb=6000, ub=13500, name='y4')\n",
        "\n",
        "x5 = solver_test.IntVar(lb=824, ub=1100, name='x5')\n",
        "y5 = solver_test.IntVar(lb=500, ub=515, name='y5')\n",
        "\n",
        "solver_test.Add(constraint=x1-y1+x2-y2+x3-y3+x4-y4+x5-y5>=25000)\n",
        "\n",
        "solver_test.Maximize(x2-y2)\n",
        "\n",
        "status = solver_test.Solve()\n",
        "\n",
        "print (status)\n",
        "\n",
        "print(solver_test.Objective().Value())\n",
        "\n",
        "x2.solution_value(), y2.solution_value()"
      ],
      "execution_count": 6,
      "outputs": [
        {
          "output_type": "stream",
          "text": [
            "0\n",
            "4200.0\n"
          ],
          "name": "stdout"
        },
        {
          "output_type": "execute_result",
          "data": {
            "text/plain": [
              "(34200.0, 30000.0)"
            ]
          },
          "metadata": {
            "tags": []
          },
          "execution_count": 6
        }
      ]
    },
    {
      "cell_type": "code",
      "metadata": {
        "id": "y9JnFPPm-say",
        "colab_type": "code",
        "outputId": "49ad1bda-0e7f-4148-a67a-234ea4cb1b8b",
        "colab": {
          "base_uri": "https://localhost:8080/",
          "height": 70
        }
      },
      "source": [
        "print (status)\n",
        "\n",
        "print(solver_test.Objective().Value())\n",
        "\n",
        "x1.solution_value(), y1.solution_value()"
      ],
      "execution_count": 0,
      "outputs": [
        {
          "output_type": "stream",
          "text": [
            "2\n",
            "0.0\n"
          ],
          "name": "stdout"
        },
        {
          "output_type": "execute_result",
          "data": {
            "text/plain": [
              "(0.0, 0.0)"
            ]
          },
          "metadata": {
            "tags": []
          },
          "execution_count": 19
        }
      ]
    },
    {
      "cell_type": "code",
      "metadata": {
        "id": "qgokFWBf-vtT",
        "colab_type": "code",
        "outputId": "0d8b369d-4f8f-4ef9-83ef-2a1ffa87ec04",
        "colab": {
          "base_uri": "https://localhost:8080/",
          "height": 34
        }
      },
      "source": [
        "pywraplp.Solver.INFEASIBLE"
      ],
      "execution_count": 0,
      "outputs": [
        {
          "output_type": "execute_result",
          "data": {
            "text/plain": [
              "2"
            ]
          },
          "metadata": {
            "tags": []
          },
          "execution_count": 16
        }
      ]
    },
    {
      "cell_type": "markdown",
      "metadata": {
        "id": "xBDkAAVguXRJ",
        "colab_type": "text"
      },
      "source": [
        "## Hyperopt experiments"
      ]
    },
    {
      "cell_type": "code",
      "metadata": {
        "id": "9XW8hQiquZLT",
        "colab_type": "code",
        "colab": {}
      },
      "source": [
        "from hyperopt import fmin, tpe, hp, STATUS_OK, Trials\n"
      ],
      "execution_count": 0,
      "outputs": []
    },
    {
      "cell_type": "code",
      "metadata": {
        "id": "2q_Li98RzzOt",
        "colab_type": "code",
        "outputId": "05a1faa2-0c85-4b18-81e9-48f26d46bc79",
        "colab": {
          "base_uri": "https://localhost:8080/",
          "height": 34
        }
      },
      "source": [
        "sales_np[0][3]"
      ],
      "execution_count": 0,
      "outputs": [
        {
          "output_type": "execute_result",
          "data": {
            "text/plain": [
              "240"
            ]
          },
          "metadata": {
            "tags": []
          },
          "execution_count": 18
        }
      ]
    },
    {
      "cell_type": "code",
      "metadata": {
        "id": "QumLEuxQucb5",
        "colab_type": "code",
        "outputId": "88fafc4a-550e-4afc-eb4f-b48baf4252ad",
        "colab": {
          "base_uri": "https://localhost:8080/",
          "height": 407
        }
      },
      "source": [
        "### example 1 : max unit sales\n",
        "\n",
        "def f_example1(params):\n",
        "    # get the sales for that price idx\n",
        "    print (params)\n",
        "    sales = sales_np[0][params]\n",
        "    print (sales)\n",
        "    return {'loss': -sales, 'status': STATUS_OK}\n",
        "\n",
        "space_example1 = hp.choice(label='price', options=[0,1,2,3,4])\n",
        "\n",
        "trials = Trials()\n",
        "\n",
        "best = fmin(fn=f_example1, space=space_example1, algo=tpe.suggest, max_evals=10, trials=trials)\n",
        "\n",
        "print (best)"
      ],
      "execution_count": 0,
      "outputs": [
        {
          "output_type": "stream",
          "text": [
            "0\n",
            "200\n",
            "1\n",
            "220\n",
            "0\n",
            "200\n",
            "3\n",
            "240\n",
            "1\n",
            "220\n",
            "0\n",
            "200\n",
            "4\n",
            "240\n",
            "0\n",
            "200\n",
            "3\n",
            "240\n",
            "3\n",
            "240\n",
            "100%|██████████| 10/10 [00:00<00:00, 53.26it/s, best loss: -240.0]\n",
            "{'price': 3}\n"
          ],
          "name": "stdout"
        }
      ]
    },
    {
      "cell_type": "code",
      "metadata": {
        "id": "WUoEHqqSzaVZ",
        "colab_type": "code",
        "outputId": "0dbc4465-062d-48ee-80d6-4f3d1c718732",
        "colab": {
          "base_uri": "https://localhost:8080/",
          "height": 372
        }
      },
      "source": [
        "### example 2 : max sales cash\n",
        "\n",
        "def f_example1(params):\n",
        "    # get the sales for that price idx\n",
        "    print (params)\n",
        "    sales = sales_cash[1][params]\n",
        "    return {'loss': -sales, 'status': STATUS_OK}\n",
        "\n",
        "space_example1 = hp.choice(label='price', options=[0,1,2,3,4])\n",
        "\n",
        "trials = Trials()\n",
        "\n",
        "for sku_idx in range(0,5):\n",
        "    best = fmin(fn=f_example1, space=space_example1, algo=tpe.suggest, max_evals=10, trials=trials)\n",
        "    print (best)"
      ],
      "execution_count": 0,
      "outputs": [
        {
          "output_type": "stream",
          "text": [
            "3\n",
            "0\n",
            "0\n",
            "2\n",
            "2\n",
            "0\n",
            "3\n",
            "1\n",
            "3\n",
            "3\n",
            "100%|██████████| 10/10 [00:00<00:00, 97.51it/s, best loss: -34200.0]\n",
            "{'price': 2}\n",
            "0it [00:00, ?it/s, best loss: ?]\n",
            "{'price': 2}\n",
            "0it [00:00, ?it/s, best loss: ?]\n",
            "{'price': 2}\n",
            "0it [00:00, ?it/s, best loss: ?]\n",
            "{'price': 2}\n",
            "0it [00:00, ?it/s, best loss: ?]\n",
            "{'price': 2}\n"
          ],
          "name": "stdout"
        }
      ]
    },
    {
      "cell_type": "code",
      "metadata": {
        "id": "OD6UlpKMU_My",
        "colab_type": "code",
        "colab": {
          "base_uri": "https://localhost:8080/",
          "height": 105
        },
        "outputId": "d3db7549-16bc-4e8e-8b53-e6dec3bfef02"
      },
      "source": [
        "sales_cash"
      ],
      "execution_count": 8,
      "outputs": [
        {
          "output_type": "execute_result",
          "data": {
            "text/plain": [
              "array([[ 2000,  1980,  1920,  1920,  1920],\n",
              "       [33000, 33000, 34200, 32000, 32000],\n",
              "       [  450,   480,   480,   480,   480],\n",
              "       [24000, 27500, 35000, 36000, 36000],\n",
              "       [ 1100,  1010,   918,   824,   824]])"
            ]
          },
          "metadata": {
            "tags": []
          },
          "execution_count": 8
        }
      ]
    },
    {
      "cell_type": "code",
      "metadata": {
        "id": "cqv0uMPc-T_E",
        "colab_type": "code",
        "outputId": "2cd459ba-ebe0-448e-f051-8963642a01e7",
        "colab": {
          "base_uri": "https://localhost:8080/",
          "height": 52
        }
      },
      "source": [
        "\"\"\"\n",
        "Example 2\n",
        "Optimise all skus to find the price mix that delivers maximum volume (cash sales) (use maximum price if 2 prices give the optimum result)\n",
        "\"\"\"\n",
        "\n",
        "def f_example1(params):\n",
        "    # get the sales for that price idx\n",
        "    sales_cash_1, sales_cash_2 = sales_cash[0][params['1']], sales_cash[1][params['2']]\n",
        "    opt = sales_cash_1 + sales_cash_2 + price_lists_np[0][params['1']] + price_lists_np[1][params['2']]\n",
        "    return {'loss': -opt, 'status': STATUS_OK}\n",
        "\n",
        "space_skus = {\n",
        "    '1': hp.choice(label='price_1', options=[0,1,2,3,4]),\n",
        "    '2': hp.choice(label='price_2', options=[0,1,2,3,4])\n",
        "}\n",
        "\n",
        "trials = Trials()\n",
        "best = fmin(fn=f_example1, space=space_skus, algo=tpe.suggest, max_evals=50, trials=trials)\n",
        "print (best)    \n"
      ],
      "execution_count": 9,
      "outputs": [
        {
          "output_type": "stream",
          "text": [
            "100%|██████████| 50/50 [00:00<00:00, 358.16it/s, best loss: -36219.0]\n",
            "{'price_1': 0, 'price_2': 2}\n"
          ],
          "name": "stdout"
        }
      ]
    },
    {
      "cell_type": "markdown",
      "metadata": {
        "id": "iS7c9j2C8PGe",
        "colab_type": "text"
      },
      "source": [
        "for each price compute the loss (tradeoff), if it violates constraint tradeoff = inf\n",
        "\n"
      ]
    }
  ]
}