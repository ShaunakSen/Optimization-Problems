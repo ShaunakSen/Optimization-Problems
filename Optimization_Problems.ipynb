{
  "nbformat": 4,
  "nbformat_minor": 0,
  "metadata": {
    "colab": {
      "name": "Optimization Problems.ipynb",
      "provenance": [],
      "collapsed_sections": [],
      "authorship_tag": "ABX9TyPD39hDpFsnr/tt4fuuMdcK",
      "include_colab_link": true
    },
    "kernelspec": {
      "name": "python3",
      "display_name": "Python 3"
    }
  },
  "cells": [
    {
      "cell_type": "markdown",
      "metadata": {
        "id": "view-in-github",
        "colab_type": "text"
      },
      "source": [
        "<a href=\"https://colab.research.google.com/github/ShaunakSen/Optimization-Problems/blob/master/Optimization_Problems.ipynb\" target=\"_parent\"><img src=\"https://colab.research.google.com/assets/colab-badge.svg\" alt=\"Open In Colab\"/></a>"
      ]
    },
    {
      "cell_type": "code",
      "metadata": {
        "id": "1lmuKA1F4Vdf",
        "colab_type": "code",
        "colab": {
          "base_uri": "https://localhost:8080/",
          "height": 194
        },
        "outputId": "b78dc02a-0909-4b4b-f9ef-3180f160839b"
      },
      "source": [
        "!python -m pip install --upgrade --user ortools\n"
      ],
      "execution_count": 3,
      "outputs": [
        {
          "output_type": "stream",
          "text": [
            "Collecting ortools\n",
            "\u001b[?25l  Downloading https://files.pythonhosted.org/packages/db/8f/7c099bcedd55df8f215ba42b50fd4db6fa5de69bb5b14a0586871683edcd/ortools-7.5.7466-cp36-cp36m-manylinux1_x86_64.whl (27.9MB)\n",
            "\u001b[K     |████████████████████████████████| 27.9MB 147kB/s \n",
            "\u001b[?25hRequirement already satisfied, skipping upgrade: six>=1.10 in /usr/local/lib/python3.6/dist-packages (from ortools) (1.12.0)\n",
            "Collecting protobuf>=3.11.2\n",
            "\u001b[?25l  Downloading https://files.pythonhosted.org/packages/57/02/5432412c162989260fab61fa65e0a490c1872739eb91a659896e4d554b26/protobuf-3.11.3-cp36-cp36m-manylinux1_x86_64.whl (1.3MB)\n",
            "\u001b[K     |████████████████████████████████| 1.3MB 41.9MB/s \n",
            "\u001b[?25hRequirement already satisfied, skipping upgrade: setuptools in /usr/local/lib/python3.6/dist-packages (from protobuf>=3.11.2->ortools) (45.1.0)\n",
            "Installing collected packages: protobuf, ortools\n",
            "Successfully installed ortools-7.5.7466 protobuf-3.11.3\n"
          ],
          "name": "stdout"
        }
      ]
    },
    {
      "cell_type": "markdown",
      "metadata": {
        "id": "Jd8kxL8PuIvp",
        "colab_type": "text"
      },
      "source": [
        "## Get Started with OR-Tools for Python\n",
        "\n",
        "\n",
        "> [Guide link by Google](https://developers.google.com/optimization/introduction/python#optimization)\n",
        "\n",
        "### What is an optimization problem?\n",
        "\n",
        "The goal of optimization is to find the best solution to a problem out of a large set of possible solutions. (Sometimes you'll be satisfied with finding any feasible solution; OR-Tools can do that as well.)\n",
        "\n",
        "Here's a typical optimization problem. Suppose that a shipping company delivers packages to its customers using a fleet of trucks. Every day, the company must assign packages to trucks, and then choose a route for each truck to deliver its packages. Each possible assignment of packages and routes has a cost, based on the total travel distance for the trucks, and possibly other factors as well. The problem is to choose the assignments of packages and routes that has the least cost.\n",
        "\n",
        "Like all optimization problems, this problem has the following elements:\n",
        "\n",
        "- The **objective** - the quantity you want to optimize. In the example above, the objective is to minimize cost. To set up an optimization problem, you need to **define a function that calculates the value of the objective for any possible solution**. This is called the objective function. In the preceding example, the objective function would calculate the total cost of any assignment of packages and routes.\n",
        "\n",
        "    > An optimal solution is one for which the value of the objective function is the best. (\"Best\" can be either a maximum or a minimum.)\n",
        "\n",
        "- The **constraints** — restrictions on the set of possible solutions, based on the specific requirements of the problem. For example, if the shipping company can't assign packages above a given weight to trucks, this would impose a constraint on the solutions. **A feasible solution is one that satisfies all the given constraints for the problem, without necessarily being optimal.**\n",
        "\n",
        "\n",
        "The first step in solving an optimization problem is identifying the objective and constraints."
      ]
    },
    {
      "cell_type": "markdown",
      "metadata": {
        "id": "WFwAPIpEu31_",
        "colab_type": "text"
      },
      "source": [
        "### Solving an optimization problem in Python\n",
        "\n",
        "Next, we give an example of an optimization problem, and show how to set up and solve it in Python.\n",
        "\n",
        "A linear optimization example\n",
        "\n",
        "---\n",
        "\n",
        "<img src='./img/diag1.png'>\n",
        "\n",
        "\n",
        "Now that we have seen what a basic optimization problem looks like, lets explore how to cdoe it in python"
      ]
    },
    {
      "cell_type": "markdown",
      "metadata": {
        "id": "X0th3HDq28Lo",
        "colab_type": "text"
      },
      "source": [
        "#### Maximize 3x + y subject to the following constraints:\n",
        "\n",
        "```\n",
        "0\t≤\tx\t≤\t1\n",
        "\n",
        "0\t≤\ty\t≤\t2\n",
        "\n",
        "x + y\t≤\t2\n",
        "\n",
        "```\n",
        "\n",
        "The objective function in this example is 3x + y. Both the objective function and the constraints are given by linear expressions, which makes this a linear problem.\n",
        "\n",
        "#### Main steps in solving the problem\n",
        "\n",
        "For each language, the basic steps for setting up and solving a problem are the same:\n",
        "\n",
        "1. Create the variables.\n",
        "2. Define the constraints.\n",
        "3. Define the objective function.\n",
        "4. Declare the solver—the method that implements an algorithm for finding the optimal solution.\n",
        "5. Invoke the solver and display the results.\n",
        "\n"
      ]
    },
    {
      "cell_type": "code",
      "metadata": {
        "id": "fbuYGN0b42Dy",
        "colab_type": "code",
        "colab": {}
      },
      "source": [
        "from __future__ import print_function\n",
        "from ortools.linear_solver import pywraplp\n"
      ],
      "execution_count": 0,
      "outputs": []
    },
    {
      "cell_type": "markdown",
      "metadata": {
        "id": "ltuVC844bonB",
        "colab_type": "text"
      },
      "source": [
        "pywraplp is a Python wrapper for the underlying C++ solver. The argument GLOP_LINEAR_PROGRAMMING specifies GLOP, the OR-Tools linear solver."
      ]
    },
    {
      "cell_type": "code",
      "metadata": {
        "id": "slCyBfWct04T",
        "colab_type": "code",
        "colab": {}
      },
      "source": [
        "# Create the linear solver with the GLOP backend.\n",
        "\n",
        "solver = pywraplp.Solver(name='simple_lp_program',problem_type=pywraplp.Solver.GLOP_LINEAR_PROGRAMMING)"
      ],
      "execution_count": 0,
      "outputs": []
    },
    {
      "cell_type": "code",
      "metadata": {
        "id": "loK6UDCA5XIy",
        "colab_type": "code",
        "colab": {
          "base_uri": "https://localhost:8080/",
          "height": 34
        },
        "outputId": "2d830597-02a0-4348-e448-596db8fae2c4"
      },
      "source": [
        "# Create the variables x and y\n",
        "\n",
        "x = solver.NumVar(lb=0, ub=1, name='x')\n",
        "y = solver.NumVar(lb=0, ub=2, name='y')\n",
        "\n",
        "print (solver.NumVariables())"
      ],
      "execution_count": 3,
      "outputs": [
        {
          "output_type": "stream",
          "text": [
            "2\n"
          ],
          "name": "stdout"
        }
      ]
    },
    {
      "cell_type": "markdown",
      "metadata": {
        "id": "9Bf7I9FK6GP1",
        "colab_type": "text"
      },
      "source": [
        "The first two constraints, 0 ≤ x ≤ 1 and 0 ≤ y ≤ 2, are already set by the definitions of the variables. The following code defines the constraint 0 ≤ x + y ≤ 2:"
      ]
    },
    {
      "cell_type": "code",
      "metadata": {
        "id": "vpMMzNOH59U9",
        "colab_type": "code",
        "colab": {
          "base_uri": "https://localhost:8080/",
          "height": 34
        },
        "outputId": "f6192635-76cb-4656-9843-dea35155581e"
      },
      "source": [
        "# Create a linear constraint, 0 <= x + y <= 2.\n",
        "\n",
        "ct = solver.Constraint(0, 2, 'ct')\n",
        "ct.SetCoefficient(var=x, coeff=1)\n",
        "ct.SetCoefficient(var=y, coeff=1)\n",
        "\n",
        "print('Number of constraints =', solver.NumConstraints())"
      ],
      "execution_count": 4,
      "outputs": [
        {
          "output_type": "stream",
          "text": [
            "Number of constraints = 1\n"
          ],
          "name": "stdout"
        }
      ]
    },
    {
      "cell_type": "markdown",
      "metadata": {
        "id": "V3REJ-K37oLE",
        "colab_type": "text"
      },
      "source": [
        "The method SetCoefficient sets the coefficients of x and y in the expression for the constraint.\n"
      ]
    },
    {
      "cell_type": "code",
      "metadata": {
        "id": "h4lTonds7pO8",
        "colab_type": "code",
        "colab": {}
      },
      "source": [
        "# Create the objective function, 3 * x + y\n",
        "\n",
        "objective = solver.Objective()\n",
        "objective.SetCoefficient(var=x, coeff=3)\n",
        "objective.SetCoefficient(var=y, coeff=1)\n",
        "objective.SetMaximization() # The method SetMaximization declares this to be a maximization problem.\n"
      ],
      "execution_count": 0,
      "outputs": []
    },
    {
      "cell_type": "code",
      "metadata": {
        "id": "IYSG1idtbarA",
        "colab_type": "code",
        "colab": {
          "base_uri": "https://localhost:8080/",
          "height": 34
        },
        "outputId": "147fee5f-4ab6-4c98-c7c1-244266bd62d6"
      },
      "source": [
        "# Invoke the solver and display the results.\n",
        "\n",
        "solver.Solve()"
      ],
      "execution_count": 7,
      "outputs": [
        {
          "output_type": "execute_result",
          "data": {
            "text/plain": [
              "0"
            ]
          },
          "metadata": {
            "tags": []
          },
          "execution_count": 7
        }
      ]
    },
    {
      "cell_type": "code",
      "metadata": {
        "id": "vVOaHjzObxZs",
        "colab_type": "code",
        "colab": {
          "base_uri": "https://localhost:8080/",
          "height": 87
        },
        "outputId": "bfa647e9-bbf7-4fa3-ae53-50b28519b982"
      },
      "source": [
        "print ('Solution:')\n",
        "print ('Objectiev value: = ', objective.Value()) # returns the objective value of the best solution found so far\n",
        "print ('x = ', x.solution_value())\n",
        "print ('x = ', y.solution_value())"
      ],
      "execution_count": 9,
      "outputs": [
        {
          "output_type": "stream",
          "text": [
            "Solution:\n",
            "Objectiev value: =  4.0\n",
            "x =  1.0\n",
            "x =  1.0\n"
          ],
          "name": "stdout"
        }
      ]
    }
  ]
}