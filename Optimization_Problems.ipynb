{
  "nbformat": 4,
  "nbformat_minor": 0,
  "metadata": {
    "colab": {
      "name": "Optimization Problems.ipynb",
      "provenance": [],
      "collapsed_sections": [],
      "authorship_tag": "ABX9TyMYzf7NBJR4ht+X7xl2F8iM",
      "include_colab_link": true
    },
    "kernelspec": {
      "name": "python3",
      "display_name": "Python 3"
    }
  },
  "cells": [
    {
      "cell_type": "markdown",
      "metadata": {
        "id": "view-in-github",
        "colab_type": "text"
      },
      "source": [
        "<a href=\"https://colab.research.google.com/github/ShaunakSen/Optimization-Problems/blob/master/Optimization_Problems.ipynb\" target=\"_parent\"><img src=\"https://colab.research.google.com/assets/colab-badge.svg\" alt=\"Open In Colab\"/></a>"
      ]
    },
    {
      "cell_type": "code",
      "metadata": {
        "id": "1lmuKA1F4Vdf",
        "colab_type": "code",
        "outputId": "c2e216f4-ea69-41ca-f09f-7dedc5cf2b6c",
        "colab": {
          "base_uri": "https://localhost:8080/",
          "height": 87
        }
      },
      "source": [
        "!python -m pip install --upgrade --user ortools\n"
      ],
      "execution_count": 2,
      "outputs": [
        {
          "output_type": "stream",
          "text": [
            "Requirement already up-to-date: ortools in /root/.local/lib/python3.6/site-packages (7.5.7466)\n",
            "Requirement already satisfied, skipping upgrade: six>=1.10 in /usr/local/lib/python3.6/dist-packages (from ortools) (1.12.0)\n",
            "Requirement already satisfied, skipping upgrade: protobuf>=3.11.2 in /root/.local/lib/python3.6/site-packages (from ortools) (3.11.3)\n",
            "Requirement already satisfied, skipping upgrade: setuptools in /usr/local/lib/python3.6/dist-packages (from protobuf>=3.11.2->ortools) (45.1.0)\n"
          ],
          "name": "stdout"
        }
      ]
    },
    {
      "cell_type": "markdown",
      "metadata": {
        "id": "Jd8kxL8PuIvp",
        "colab_type": "text"
      },
      "source": [
        "## Get Started with OR-Tools for Python\n",
        "\n",
        "\n",
        "> [Guide link by Google](https://developers.google.com/optimization/introduction/python#optimization)\n",
        "\n",
        "### What is an optimization problem?\n",
        "\n",
        "The goal of optimization is to find the best solution to a problem out of a large set of possible solutions. (Sometimes you'll be satisfied with finding any feasible solution; OR-Tools can do that as well.)\n",
        "\n",
        "Here's a typical optimization problem. Suppose that a shipping company delivers packages to its customers using a fleet of trucks. Every day, the company must assign packages to trucks, and then choose a route for each truck to deliver its packages. Each possible assignment of packages and routes has a cost, based on the total travel distance for the trucks, and possibly other factors as well. The problem is to choose the assignments of packages and routes that has the least cost.\n",
        "\n",
        "Like all optimization problems, this problem has the following elements:\n",
        "\n",
        "- The **objective** - the quantity you want to optimize. In the example above, the objective is to minimize cost. To set up an optimization problem, you need to **define a function that calculates the value of the objective for any possible solution**. This is called the objective function. In the preceding example, the objective function would calculate the total cost of any assignment of packages and routes.\n",
        "\n",
        "    > An optimal solution is one for which the value of the objective function is the best. (\"Best\" can be either a maximum or a minimum.)\n",
        "\n",
        "- The **constraints** — restrictions on the set of possible solutions, based on the specific requirements of the problem. For example, if the shipping company can't assign packages above a given weight to trucks, this would impose a constraint on the solutions. **A feasible solution is one that satisfies all the given constraints for the problem, without necessarily being optimal.**\n",
        "\n",
        "\n",
        "The first step in solving an optimization problem is identifying the objective and constraints."
      ]
    },
    {
      "cell_type": "markdown",
      "metadata": {
        "id": "WFwAPIpEu31_",
        "colab_type": "text"
      },
      "source": [
        "### Solving an optimization problem in Python\n",
        "\n",
        "Next, we give an example of an optimization problem, and show how to set up and solve it in Python.\n",
        "\n",
        "A linear optimization example\n",
        "\n",
        "---\n",
        "\n",
        "<img src='./img/diag1.png'>\n",
        "\n",
        "\n",
        "Now that we have seen what a basic optimization problem looks like, lets explore how to cdoe it in python"
      ]
    },
    {
      "cell_type": "markdown",
      "metadata": {
        "id": "X0th3HDq28Lo",
        "colab_type": "text"
      },
      "source": [
        "#### Maximize 3x + y subject to the following constraints:\n",
        "\n",
        "```\n",
        "0\t≤\tx\t≤\t1\n",
        "\n",
        "0\t≤\ty\t≤\t2\n",
        "\n",
        "x + y\t≤\t2\n",
        "\n",
        "```\n",
        "\n",
        "The objective function in this example is 3x + y. Both the objective function and the constraints are given by linear expressions, which makes this a linear problem.\n",
        "\n",
        "#### Main steps in solving the problem\n",
        "\n",
        "For each language, the basic steps for setting up and solving a problem are the same:\n",
        "\n",
        "1. Create the variables.\n",
        "2. Define the constraints.\n",
        "3. Define the objective function.\n",
        "4. Declare the solver—the method that implements an algorithm for finding the optimal solution.\n",
        "5. Invoke the solver and display the results.\n",
        "\n"
      ]
    },
    {
      "cell_type": "code",
      "metadata": {
        "id": "fbuYGN0b42Dy",
        "colab_type": "code",
        "colab": {}
      },
      "source": [
        "from __future__ import print_function\n",
        "from ortools.linear_solver import pywraplp\n"
      ],
      "execution_count": 0,
      "outputs": []
    },
    {
      "cell_type": "markdown",
      "metadata": {
        "id": "ltuVC844bonB",
        "colab_type": "text"
      },
      "source": [
        "pywraplp is a Python wrapper for the underlying C++ solver. The argument GLOP_LINEAR_PROGRAMMING specifies GLOP, the OR-Tools linear solver."
      ]
    },
    {
      "cell_type": "code",
      "metadata": {
        "id": "slCyBfWct04T",
        "colab_type": "code",
        "colab": {}
      },
      "source": [
        "# Create the linear solver with the GLOP backend.\n",
        "\n",
        "solver = pywraplp.Solver(name='simple_lp_program',problem_type=pywraplp.Solver.GLOP_LINEAR_PROGRAMMING)"
      ],
      "execution_count": 0,
      "outputs": []
    },
    {
      "cell_type": "code",
      "metadata": {
        "id": "loK6UDCA5XIy",
        "colab_type": "code",
        "outputId": "b1a2584b-d413-4dba-edb0-2f1a38140349",
        "colab": {
          "base_uri": "https://localhost:8080/",
          "height": 34
        }
      },
      "source": [
        "# Create the variables x and y\n",
        "\n",
        "x = solver.NumVar(lb=0, ub=1, name='x')\n",
        "y = solver.NumVar(lb=0, ub=2, name='y')\n",
        "\n",
        "print (solver.NumVariables())"
      ],
      "execution_count": 5,
      "outputs": [
        {
          "output_type": "stream",
          "text": [
            "2\n"
          ],
          "name": "stdout"
        }
      ]
    },
    {
      "cell_type": "markdown",
      "metadata": {
        "id": "9Bf7I9FK6GP1",
        "colab_type": "text"
      },
      "source": [
        "The first two constraints, 0 ≤ x ≤ 1 and 0 ≤ y ≤ 2, are already set by the definitions of the variables. The following code defines the constraint 0 ≤ x + y ≤ 2:"
      ]
    },
    {
      "cell_type": "code",
      "metadata": {
        "id": "vpMMzNOH59U9",
        "colab_type": "code",
        "outputId": "8895b1ee-cece-4d6b-9260-e8dce5e9d6a8",
        "colab": {
          "base_uri": "https://localhost:8080/",
          "height": 34
        }
      },
      "source": [
        "# Create a linear constraint, 0 <= x + y <= 2.\n",
        "\n",
        "ct = solver.Constraint(0, 2, 'ct')\n",
        "ct.SetCoefficient(var=x, coeff=1)\n",
        "ct.SetCoefficient(var=y, coeff=1)\n",
        "\n",
        "print('Number of constraints =', solver.NumConstraints())"
      ],
      "execution_count": 6,
      "outputs": [
        {
          "output_type": "stream",
          "text": [
            "Number of constraints = 1\n"
          ],
          "name": "stdout"
        }
      ]
    },
    {
      "cell_type": "markdown",
      "metadata": {
        "id": "V3REJ-K37oLE",
        "colab_type": "text"
      },
      "source": [
        "The method SetCoefficient sets the coefficients of x and y in the expression for the constraint.\n"
      ]
    },
    {
      "cell_type": "code",
      "metadata": {
        "id": "h4lTonds7pO8",
        "colab_type": "code",
        "colab": {}
      },
      "source": [
        "# Create the objective function, 3 * x + y\n",
        "\n",
        "objective = solver.Objective()\n",
        "objective.SetCoefficient(var=x, coeff=3)\n",
        "objective.SetCoefficient(var=y, coeff=1)\n",
        "objective.SetMaximization() # The method SetMaximization declares this to be a maximization problem.\n"
      ],
      "execution_count": 0,
      "outputs": []
    },
    {
      "cell_type": "code",
      "metadata": {
        "id": "IYSG1idtbarA",
        "colab_type": "code",
        "outputId": "7cb6a13d-f36f-44f7-fe83-fa55e852fc7d",
        "colab": {
          "base_uri": "https://localhost:8080/",
          "height": 34
        }
      },
      "source": [
        "# Invoke the solver and display the results.\n",
        "\n",
        "solver.Solve()"
      ],
      "execution_count": 8,
      "outputs": [
        {
          "output_type": "execute_result",
          "data": {
            "text/plain": [
              "0"
            ]
          },
          "metadata": {
            "tags": []
          },
          "execution_count": 8
        }
      ]
    },
    {
      "cell_type": "code",
      "metadata": {
        "id": "vVOaHjzObxZs",
        "colab_type": "code",
        "outputId": "4b62d726-39af-4771-ad7d-39a49d7849b4",
        "colab": {
          "base_uri": "https://localhost:8080/",
          "height": 87
        }
      },
      "source": [
        "print ('Solution:')\n",
        "print ('Objectiev value: = ', objective.Value()) # returns the objective value of the best solution found so far\n",
        "print ('x = ', x.solution_value())\n",
        "print ('x = ', y.solution_value())"
      ],
      "execution_count": 9,
      "outputs": [
        {
          "output_type": "stream",
          "text": [
            "Solution:\n",
            "Objectiev value: =  4.0\n",
            "x =  1.0\n",
            "x =  1.0\n"
          ],
          "name": "stdout"
        }
      ]
    },
    {
      "cell_type": "markdown",
      "metadata": {
        "id": "r7DyXJDHEaPk",
        "colab_type": "text"
      },
      "source": [
        "## The Glop Linear Solver\n",
        "\n",
        "> [Guide link by Google](https://developers.google.com/optimization/lp/glop)\n",
        "\n",
        "\n",
        "### A simple example\n",
        "\n",
        "Maximize `3x + 4y` subject to the following constraints:\n",
        "\n",
        "```\n",
        "x + 2y\t≤\t14\n",
        "\n",
        "3x – y\t≥\t0\n",
        "\n",
        "x – y\t≤\t2\n",
        "```\n",
        "\n",
        "**Both the objective function, 3x + 4y, and the constraints are given by linear expressions, which makes this a linear problem.**\n",
        "\n",
        "The constraints define the feasible region, which is the triangle shown below, including its interior.\n",
        "\n",
        "![](https://developers.google.com/optimization/images/lp/feasible_region.png)\n",
        "\n",
        "The following sections explain how to solve the problem.\n",
        "\n"
      ]
    },
    {
      "cell_type": "markdown",
      "metadata": {
        "id": "dxMd4mjrK-qe",
        "colab_type": "text"
      },
      "source": [
        "The following code declares the solver. MPsolver is a wrapper for several different solvers, including Glop. Appending GLOP_LINEAR_PROGRAMMING tells the solver to use Glop."
      ]
    },
    {
      "cell_type": "code",
      "metadata": {
        "id": "5xtDs486K9-h",
        "colab_type": "code",
        "colab": {}
      },
      "source": [
        "solver_2 = pywraplp.Solver('LinearProgrammingExample',\n",
        "                         pywraplp.Solver.GLOP_LINEAR_PROGRAMMING)"
      ],
      "execution_count": 0,
      "outputs": []
    },
    {
      "cell_type": "code",
      "metadata": {
        "id": "LlZSVMrmFFUE",
        "colab_type": "code",
        "colab": {}
      },
      "source": [
        "# create the variables\n",
        "x = solver_2.NumVar(lb=0, ub=solver_2.infinity(), name='x') # why lower bound of 0 ? in the feasible reagion x can be -ve as well\n",
        "y = solver_2.NumVar(lb=0, ub=solver_2.infinity(), name='y') # again, y may be -ve as well\n",
        "\n",
        "\n",
        "# Next, define the constraints on the variables.\n",
        "# Give each constraint a unique name (such as constraint0), and then define the coefficients for the constraint.\n",
        "\n",
        "### Constraint 0: x + 2y <= 14\n",
        "contstraint0 = solver_2.Constraint(-solver_2.infinity(), 14)\n",
        "contstraint0.SetCoefficient(var=x, coeff=1)\n",
        "contstraint0.SetCoefficient(var=y, coeff=2)\n",
        "\n",
        "### Constraint 1: 3x - y >= 0\n",
        "contstraint1 = solver_2.Constraint(0, solver_2.infinity())\n",
        "contstraint1.SetCoefficient(var=x, coeff=3)\n",
        "contstraint1.SetCoefficient(var=y, coeff=-1)\n",
        "\n",
        "### Constraint 2: x - y <= 2.\n",
        "contstraint2 = solver_2.Constraint(-solver_2.infinity(), 2)\n",
        "contstraint2.SetCoefficient(var=x, coeff=1)\n",
        "contstraint2.SetCoefficient(var=y, coeff=-1)\n"
      ],
      "execution_count": 0,
      "outputs": []
    },
    {
      "cell_type": "code",
      "metadata": {
        "id": "ZZGlyfc8KMJN",
        "colab_type": "code",
        "colab": {
          "base_uri": "https://localhost:8080/",
          "height": 34
        },
        "outputId": "0b4e0727-a788-4e47-d7d0-a1c22ba6724f"
      },
      "source": [
        "solver_2.NumConstraints(), solver_2.NumVariables()"
      ],
      "execution_count": 20,
      "outputs": [
        {
          "output_type": "execute_result",
          "data": {
            "text/plain": [
              "(3, 2)"
            ]
          },
          "metadata": {
            "tags": []
          },
          "execution_count": 20
        }
      ]
    },
    {
      "cell_type": "code",
      "metadata": {
        "id": "gbJuQOVOKzLO",
        "colab_type": "code",
        "colab": {}
      },
      "source": [
        "# Define the objective function\n",
        "## The following code defines the objective function, 3x + 4y, and specifies that this is a maximization problem.\n",
        "### Objective function: 3x + 4y\n",
        "\n",
        "objective_2 = solver_2.Objective()\n",
        "objective_2.SetCoefficient(var=x, coeff=3)\n",
        "objective_2.SetCoefficient(var=y, coeff=4)\n",
        "objective_2.SetMaximization()\n"
      ],
      "execution_count": 0,
      "outputs": []
    },
    {
      "cell_type": "code",
      "metadata": {
        "id": "ug6vUv6cL1nS",
        "colab_type": "code",
        "colab": {
          "base_uri": "https://localhost:8080/",
          "height": 123
        },
        "outputId": "ceb2ad36-a0c9-4e4f-e14e-c8c8fa2d3b65"
      },
      "source": [
        "# Solve the system.\n",
        "solver_2.Solve()\n",
        "\n",
        "# display the soln values\n",
        "opt_solution = 3*x.solution_value() + 4*y.solution_value()\n",
        "print('Number of variables =', solver_2.NumVariables())\n",
        "print('Number of constraints =', solver_2.NumConstraints())\n",
        "# The value of each variable in the solution.\n",
        "\n",
        "print('Solution:')\n",
        "print('x = ', x.solution_value())\n",
        "print('y = ', y.solution_value())\n",
        "\n",
        "# The objective value of the solution.\n",
        "print('Optimal objective value =', opt_solution)"
      ],
      "execution_count": 25,
      "outputs": [
        {
          "output_type": "stream",
          "text": [
            "Number of variables = 2\n",
            "Number of constraints = 3\n",
            "Solution:\n",
            "x =  5.999999999999998\n",
            "y =  3.9999999999999996\n",
            "Optimal objective value = 33.99999999999999\n"
          ],
          "name": "stdout"
        }
      ]
    },
    {
      "cell_type": "markdown",
      "metadata": {
        "id": "SZtHWgAsMZ2C",
        "colab_type": "text"
      },
      "source": [
        "Here is a graph showing the solution:\n",
        "\n",
        "![](https://developers.google.com/optimization/images/lp/feasible_region_solution.png)\n",
        "\n",
        "The dashed green line is defined by setting the objective function equal to its optimal value of 34. Any line whose equation has the form 3x + 4y = c is parallel to the dashed line, and 34 is the largest value of c for which the line intersects the feasible region.\n",
        "\n",
        "If you think about the geometry in the above graph, in any linear optimization problem at least one vertex of the feasible region must be an optimal solution. As a result, you can find an optimal solution by traversing the vertices of the feasible region until there is no more improvement in the objective function. This is the idea behind simplex algorithm, the most widely-used method for solving linear optimization problems.\n",
        "\n"
      ]
    },
    {
      "cell_type": "code",
      "metadata": {
        "id": "HKuglF1HMSHZ",
        "colab_type": "code",
        "colab": {}
      },
      "source": [
        ""
      ],
      "execution_count": 0,
      "outputs": []
    }
  ]
}