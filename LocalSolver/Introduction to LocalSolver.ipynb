{
 "cells": [
  {
   "cell_type": "markdown",
   "metadata": {},
   "source": [
    "## Basic Introduction to LocalSolver\n",
    "\n",
    "> Link: https://www.localsolver.com/docs/last/quickstart/quicktourmodeler.html\n",
    "\n",
    "---\n",
    "\n",
    "The best way to discover LocalSolver is to use the built-in modeling language. It provides many mathematical operators and facilitates goal programming. The language itself, called LSP (for LocalSolver Programming language) can be both used for programming and modeling: in the same LSP program it is possible to manipulate data structures as in an imperative language and define the optimization model.\n",
    "\n",
    "As a result, models written in LSP language are really concise and readable. They are structured around 5 predefined functions: input(), model(), param(), display(), output(). These functions, called in this order, induce the flow of the program launched by the LocalSolver executable:\n",
    "\n",
    "- input: for declaring your data or reading them from files.\n",
    "- model: for declaring your optimization model.\n",
    "- param: for parameterizing the local-search solver before running.\n",
    "- display: for displaying some info in console or in some files during the resolution.\n",
    "- output: for writing results in console or in some files, once the resolution is finished.\n",
    "\n",
    "### SOlving our first model - Knapsack toy model\n",
    "\n",
    "> A toy instance of the knapsack problem: given 8 items with weights 10, 60, 30, 40, 30, 20, 20, 2 and values 1, 10, 15, 40, 60, 90, 100, 15 respectively, determine a subset of those items in such a way that their total weight is less than 102 and their total value is as large as possible.\n",
    "\n"
   ]
  },
  {
   "cell_type": "code",
   "execution_count": 1,
   "metadata": {},
   "outputs": [],
   "source": [
    "import localsolver"
   ]
  },
  {
   "cell_type": "code",
   "execution_count": 2,
   "metadata": {},
   "outputs": [
    {
     "name": "stdout",
     "output_type": "stream",
     "text": [
      "Push initial solutions 100%\u001b[2K\n",
      "\u001b[1m\u001b[4mModel\u001b[0m:  expressions = 38, decisions = 8, constraints = 1, objectives = 1\n",
      "\u001b[1m\u001b[4mParam\u001b[0m:  time limit = 10 sec, no iteration limit\n",
      "\n",
      "[objective direction ]:     maximize\n",
      "\n",
      "[  0 sec,       0 itr]:            0\n",
      "[ optimality gap     ]:         100%\n",
      "[  0 sec,    5645 itr]:          280\n",
      "[ optimality gap     ]:           0%\n",
      "\n",
      "5645 iterations performed in 0 seconds\n",
      "\n",
      "\u001b[1m\u001b[36mOptimal solution: \u001b[0m\n",
      "  obj    =          280\n",
      "  gap    =           0%\n",
      "  bounds =          280\n"
     ]
    }
   ],
   "source": [
    "with localsolver.LocalSolver() as ls:\n",
    "    weights = [10, 60, 30, 40, 30, 20, 20, 2]\n",
    "    values = [1, 10, 15, 40, 60, 90, 100, 15]\n",
    "    knapsack_bound = 102\n",
    "    \n",
    "    # Declares the optimization model\n",
    "    model = ls.model\n",
    "    \n",
    "    # 0-1 decisions\n",
    "    x=[model.bool() for i in range(8)]\n",
    "    \n",
    "    # weight constraint\n",
    "    knapsack_weight = model.sum(weights[i]*x[i] for i in range(8))\n",
    "    model.constraint(knapsack_weight <= knapsack_bound)\n",
    "    \n",
    "    # maximize value\n",
    "    knapsack_value = model.sum(values[i]*x[i] for i in range(8))\n",
    "    model.maximize(knapsack_value)\n",
    "    \n",
    "    model.close()\n",
    "    \n",
    "    \n",
    "    # Parameterizes the solver\n",
    "    ls.param.time_limit = 10\n",
    "\n",
    "    ls.solve()\n"
   ]
  },
  {
   "cell_type": "markdown",
   "metadata": {},
   "source": [
    "If no time limit is set, the search will continue until optimality is proven (Optimal solution message) or until you force the stop of the program by pressing Ctrl+C. The trace in console starts with the key figures of the model: number of expressions, decisions, constraints and objectives.\n",
    "\n",
    "Once the search is finished, the total number of iterations and the elapsed time are displayed, as well as the status and the value of the best solution found. The solution status can be Inconsistent, Infeasible, Feasible or Optimal."
   ]
  },
  {
   "cell_type": "code",
   "execution_count": null,
   "metadata": {},
   "outputs": [],
   "source": []
  },
  {
   "cell_type": "code",
   "execution_count": null,
   "metadata": {},
   "outputs": [],
   "source": []
  },
  {
   "cell_type": "code",
   "execution_count": null,
   "metadata": {},
   "outputs": [],
   "source": []
  },
  {
   "cell_type": "code",
   "execution_count": null,
   "metadata": {},
   "outputs": [],
   "source": []
  },
  {
   "cell_type": "code",
   "execution_count": null,
   "metadata": {},
   "outputs": [],
   "source": []
  }
 ],
 "metadata": {
  "kernelspec": {
   "display_name": "Python 3.7.4 64-bit",
   "language": "python",
   "name": "python37464bit534221b4ba144d7c9105a79e50b044ad"
  },
  "language_info": {
   "codemirror_mode": {
    "name": "ipython",
    "version": 3
   },
   "file_extension": ".py",
   "mimetype": "text/x-python",
   "name": "python",
   "nbconvert_exporter": "python",
   "pygments_lexer": "ipython3",
   "version": "3.7.4"
  }
 },
 "nbformat": 4,
 "nbformat_minor": 4
}
