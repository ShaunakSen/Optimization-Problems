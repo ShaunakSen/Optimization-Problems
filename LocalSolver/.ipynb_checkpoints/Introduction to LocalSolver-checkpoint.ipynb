{
 "cells": [
  {
   "cell_type": "markdown",
   "metadata": {},
   "source": [
    "## Basic Introduction to LocalSolver\n",
    "\n",
    "> Link: https://www.localsolver.com/docs/last/quickstart/quicktourmodeler.html\n",
    "\n",
    "---\n",
    "\n",
    "The best way to discover LocalSolver is to use the built-in modeling language. It provides many mathematical operators and facilitates goal programming. The language itself, called LSP (for LocalSolver Programming language) can be both used for programming and modeling: in the same LSP program it is possible to manipulate data structures as in an imperative language and define the optimization model.\n",
    "\n",
    "As a result, models written in LSP language are really concise and readable. They are structured around 5 predefined functions: input(), model(), param(), display(), output(). These functions, called in this order, induce the flow of the program launched by the LocalSolver executable:\n",
    "\n",
    "- input: for declaring your data or reading them from files.\n",
    "- model: for declaring your optimization model.\n",
    "- param: for parameterizing the local-search solver before running.\n",
    "- display: for displaying some info in console or in some files during the resolution.\n",
    "- output: for writing results in console or in some files, once the resolution is finished.\n",
    "\n",
    "### SOlving our first model - Knapsack toy model\n",
    "\n",
    "> A toy instance of the knapsack problem: given 8 items with weights 10, 60, 30, 40, 30, 20, 20, 2 and values 1, 10, 15, 40, 60, 90, 100, 15 respectively, determine a subset of those items in such a way that their total weight is less than 102 and their total value is as large as possible.\n",
    "\n"
   ]
  },
  {
   "cell_type": "code",
   "execution_count": 1,
   "metadata": {},
   "outputs": [],
   "source": [
    "import localsolver"
   ]
  },
  {
   "cell_type": "code",
   "execution_count": null,
   "metadata": {},
   "outputs": [],
   "source": [
    "with localsolver.LocalSolver() as ls:\n",
    "    "
   ]
  },
  {
   "cell_type": "code",
   "execution_count": null,
   "metadata": {},
   "outputs": [],
   "source": []
  },
  {
   "cell_type": "code",
   "execution_count": null,
   "metadata": {},
   "outputs": [],
   "source": []
  },
  {
   "cell_type": "code",
   "execution_count": null,
   "metadata": {},
   "outputs": [],
   "source": []
  },
  {
   "cell_type": "code",
   "execution_count": null,
   "metadata": {},
   "outputs": [],
   "source": []
  },
  {
   "cell_type": "code",
   "execution_count": null,
   "metadata": {},
   "outputs": [],
   "source": []
  }
 ],
 "metadata": {
  "kernelspec": {
   "display_name": "Python 3.7.4 64-bit",
   "language": "python",
   "name": "python37464bit534221b4ba144d7c9105a79e50b044ad"
  },
  "language_info": {
   "codemirror_mode": {
    "name": "ipython",
    "version": 3
   },
   "file_extension": ".py",
   "mimetype": "text/x-python",
   "name": "python",
   "nbconvert_exporter": "python",
   "pygments_lexer": "ipython3",
   "version": "3.7.4"
  }
 },
 "nbformat": 4,
 "nbformat_minor": 4
}
